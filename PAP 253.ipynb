{
 "cells": [
  {
   "cell_type": "markdown",
   "metadata": {},
   "source": [
    "### Import"
   ]
  },
  {
   "cell_type": "markdown",
   "metadata": {},
   "source": [
    "https://jakevdp.github.io/PythonDataScienceHandbook/04.03-errorbars.html"
   ]
  },
  {
   "cell_type": "code",
   "execution_count": 1,
   "metadata": {},
   "outputs": [],
   "source": [
    "import numpy as np\n",
    "import matplotlib.pyplot as plt\n",
    "from scipy.optimize import curve_fit\n",
    "from scipy.stats import chi2\n",
    "from scipy.special import gamma\n",
    "from numpy import exp, sqrt, pi, math\n",
    "from math import factorial as fctl\n",
    "from uncertainties import ufloat, unumpy as unp\n",
    "from uncertainties import umath"
   ]
  },
  {
   "cell_type": "markdown",
   "metadata": {},
   "source": [
    "### Definitionen"
   ]
  },
  {
   "cell_type": "code",
   "execution_count": 2,
   "metadata": {},
   "outputs": [],
   "source": [
    "def chi_2(f, fit, x, y, yerr, name = ''):\n",
    "    chi_sq = np.sum( (f(x, *fit) - y)**2 / yerr **2)\n",
    "    dof = len(y) - len(fit)\n",
    "    chi_sq_red = chi_sq / dof\n",
    "    prob = round(1 - chi2.cdf(chi_sq, dof), 3) * 1e2\n",
    "    if name == '':\n",
    "        print('chi_sq = ' + str(chi_sq), '\\nchi_sq_red = ' + str(chi_sq_red), '\\nFitwkt = ' + str(prob) + '%')\n",
    "    else:\n",
    "        print(name, 'chi_sq = ' + str(chi_sq), '\\nchi_sq_red = ' + str(chi_sq_red), '\\nFitwkt = ' + str(prob) + '%')\n",
    "    return np.array([chi_sq, chi_sq_red, prob])\n",
    "\n",
    "def perr(pcov):\n",
    "    return np.sqrt(np.diag(pcov))\n",
    "\n",
    "def uprint(name, value, error, unit = ''):\n",
    "    print(name + str(ufloat(value, error)) + '  ' + unit)\n",
    "    return np.array([ufloat(value, error)])"
   ]
  },
  {
   "cell_type": "code",
   "execution_count": 3,
   "metadata": {},
   "outputs": [],
   "source": [
    "def gauß(x, A, mu, sig): # A: Fläche der Gaußfunktion\n",
    "    return A / (sqrt(2 * pi) * sig) * exp (- (x-mu)**2 / 2 / sig**2)\n",
    "def poisson(x, A_p, mu_p):\n",
    "    return A_p * exp(-mu_p) * mu_p**x / gamma(x+1)\n",
    "def binomial(n, k, p):\n",
    "    return fctl(n) / (fctl(n-k) * fctl(k)) * (p **k) * ((1-p) **(n-k)) \n",
    "def lin(x, a, b): \n",
    "    return x * a + b\n",
    "def twoexp(x, A1, l1, A2, l2):\n",
    "    return A1 * np.exp(-x*l1) + A2 * np.exp(-x*l2)\n",
    "def oneexp(x, A, l):\n",
    "    return A * np.exp(-x*l)"
   ]
  },
  {
   "cell_type": "markdown",
   "metadata": {},
   "source": [
    "### Hole Werte"
   ]
  },
  {
   "cell_type": "code",
   "execution_count": 4,
   "metadata": {},
   "outputs": [],
   "source": [
    "# Werte - Array mit Wert und Fehler wenn vorhanden\n",
    "n0 = np.array([123, 11]) # Nulleffekt über 5min\n",
    "n0b = np.array([147, 12]) # Nulleffekt über 5min\n",
    "\n",
    "# beta Strahlung\n",
    "db = np.array([6.1, 0.1]) # Abstand zum Kollimator in cm\n",
    "tb = np.array([30, 30, 30, 30, 30, 30, 30, 30, 120, 120, 120, 120, 300]) # Messdauer [s]\n",
    "Nb = np.array([1100, 717, 458, 292, 223, 134, 73, 53, 114, 81, 76, 51, 147]) # Zahl der Zerfälle\n",
    "dNb = np.sqrt(Nb)\n",
    "xb = np.array([0, 0.3, 0.6, 0.9, 1.2, 1.5, 1.8, 2.1, 2.4, 2.7, 3.0, 3.3, 4.3]) # Absorberdicke [mm]\n",
    "nb = np.array([ Nb/tb*60 - n0b[0]/5, np.sqrt((dNb/tb*60)**2 + (n0b[1]/5)**2) ]) # Zählrate\n",
    "\n",
    "# gamma Strahlung\n",
    "dy = np.array([14.9, 0.1]) # Abstand zum Kollimator in cm\n",
    "ty = 1 # Messdauer [min]\n",
    "Ny = np.array([3950, 2631, 2012, 1495, 1021, 819, 633, 467, 330, 297, 204]) # Zahl der Zerfälle\n",
    "dNy = np.sqrt(Ny)\n",
    "xy = np.array([0, 0.5, 1, 1.5, 2, 2.5, 3, 3.5, 4, 4.5, 5]) # Absorberdicke [cm]\n",
    "ny = np.array([ Ny - n0[0]/5, np.sqrt((dNy)**2 + (n0[1]/5)**2) ]) # Zählrate\n",
    "\n",
    "# Aktvität\n",
    "dc = np.array([[5, 10, 20], [0.3, 0.3, 0.3]]) # Abstand Präparat - Zählrohr [cm]\n",
    "tc = 60 # Messdauer [s]\n",
    "Nc = np.array([32496, 10614, 2930]) # Zahl der Zerfälle\n",
    "dNc = np.sqrt(Nc)\n",
    "nc = np.array([ Nc/(2*tc), dNc/(2*tc) ]) # Zählrate - durch 2 teilen da je 2 Gammaquanten emittiert werden\n",
    "e = .04 # Ansprechwkt\n",
    "r = 14 / 2 * 1e-1 # Zählrohrradius [cm]\n",
    "l = 4 # Zählrohrlänge [cm]\n",
    "\n",
    "# alpha Strahlung\n",
    "p = np.array([[21, 101, 197, 298, 398, 418, 443, 462, 479, 513, 606, 692, 852, 988], \n",
    "              [2, 1, 1, 2, 2, 1, 1, 1, 1, 1, 2, 1, 2, 1]]) # Druck\n",
    "da = 4.2 # Abstand Präparat - Zählrohr\n",
    "ta = 1 # Messdauer - hier in min!\n",
    "na = np.array([13258, 13179, 12859, 12889, 8824, 6660, 3981, 2407, 1311, 395, 222, 219, 201, 215]) # Zahl der Zerfälle\n",
    "dna = np.sqrt(na)\n",
    "p0 = 1013 # Normaldruck\n",
    "\n",
    "#if len(U) != len(N):\n",
    "#    print('Error:', len(U), len(N))"
   ]
  },
  {
   "cell_type": "code",
   "execution_count": 5,
   "metadata": {
    "scrolled": true
   },
   "outputs": [],
   "source": [
    "# Werte aus Datei\n"
   ]
  },
  {
   "cell_type": "markdown",
   "metadata": {},
   "source": [
    "## 1 beta Strahlung"
   ]
  },
  {
   "cell_type": "code",
   "execution_count": 6,
   "metadata": {
    "scrolled": true
   },
   "outputs": [
    {
     "data": {
      "image/png": "[encoded data removed]",
      "text/plain": [
       "<Figure size 432x288 with 1 Axes>"
      ]
     },
     "metadata": {
      "needs_background": "light"
     },
     "output_type": "display_data"
    }
   ],
   "source": [
    "# Aufgabe 1 beta Strahlung\n",
    "rg = np.array([7, 11]) # fitte linearen Bereich\n",
    "popt, pcov = curve_fit(oneexp, xb[rg[0]:rg[1]], nb[0, rg[0]:rg[1]], sigma=nb[1, rg[0]:rg[1]])\n",
    "pbeta = np.array([popt, perr(pcov)])\n",
    "\n",
    "# Plot\n",
    "plt.errorbar(xb, nb[0], yerr=nb[1], fmt='', linestyle='none', label='Messwerte')\n",
    "plt.plot(xb, oneexp(xb, *popt), label='Fit')\n",
    "plt.title('Diagramm 1: Absorbtion von Beta-Strahlung')\n",
    "plt.xlabel('Absorptionsdicke $x/mm$')\n",
    "plt.ylabel('Zerfallsrate $n/(1/s)$')\n",
    "plt.ylim((1e-1, 1e4))\n",
    "plt.yscale('log')\n",
    "plt.grid()\n",
    "plt.legend(loc='best')\n",
    "plt.savefig(\"plot 1.pdf\", format=\"pdf\")"
   ]
  },
  {
   "cell_type": "code",
   "execution_count": 7,
   "metadata": {},
   "outputs": [
    {
     "name": "stdout",
     "output_type": "stream",
     "text": [
      "maximale Reichweite x_max = 3.5+/-0.5  mm\n",
      "A = 43181.2+/-3.0  \n",
      "l = 38890.2+/-0.4  \n",
      "Flächendichte R_beta = 1.08+/-0.15  g/cm^2\n",
      "Maximalenergie aus Abb. 8 im Skript: E = 2.23+/-0.27 MeV\n"
     ]
    }
   ],
   "source": [
    "# maximale Reichweite aus Extrapolation [mm]\n",
    "x_max = np.array([ np.log(pbeta[0,0])/pbeta[0,1] , \n",
    "                np.sqrt( (pbeta[1,1] * np.log(pbeta[0,0])/pbeta[0,1]**2)**2 + (pbeta[1,0] / (pbeta[0,0]*pbeta[0,1]))**2 )])\n",
    "uprint('maximale Reichweite x_max = ', x_max[0], x_max[1], 'mm')\n",
    "uprint('A = ', pbeta[0,0], pbeta[0,1])\n",
    "uprint('l = ', pbeta[1,0], pbeta[1,1])\n",
    "\n",
    "# Flächendichte\n",
    "rho_al = 2.6989 # Dichte von Aluminium [g/cm^3]\n",
    "Rb_al = rho_al*x_max[0]/10 # Flächendichte Al [g/cm^2]\n",
    "Rb_es = 0.13 # Flächendichte Edelstahl [g/cm^2] aus Skript\n",
    "Rb = np.array([Rb_al+Rb_es , rho_al*x_max[1]/10]) # Flächendichte gesamt [g/cm^2]\n",
    "uprint('Flächendichte R_beta = ', Rb[0], Rb[1], 'g/cm^2')\n",
    "print('Maximalenergie aus Abb. 8 im Skript: E = 2.23+/-0.27 MeV')"
   ]
  },
  {
   "cell_type": "markdown",
   "metadata": {},
   "source": [
    "## 2 gamma Strahlung"
   ]
  },
  {
   "cell_type": "code",
   "execution_count": 8,
   "metadata": {
    "scrolled": true
   },
   "outputs": [
    {
     "data": {
      "image/png": "[encoded data removed]",
      "text/plain": [
       "<Figure size 432x288 with 1 Axes>"
      ]
     },
     "metadata": {
      "needs_background": "light"
     },
     "output_type": "display_data"
    }
   ],
   "source": [
    "# Aufgabe 1 beta Strahlung\n",
    "#rg = np.array([1, len(xy)])\n",
    "popt, pcov = curve_fit(oneexp, xy, ny[0], sigma=ny[1])\n",
    "pgamma = np.array([popt, perr(pcov)])\n",
    "\n",
    "# Plot\n",
    "plt.errorbar(xy, ny[0], yerr=ny[1], fmt='', linestyle='none', label='Messwerte')\n",
    "plt.plot(xy, oneexp(xy, *popt), label='Fit')\n",
    "plt.title('Diagramm 2: Absorbtion von Gamma-Strahlung')\n",
    "plt.xlabel('Absorptionsdicke $x/cm$')\n",
    "plt.ylabel('Zerfallsrate $n/(1/s)$')\n",
    "#plt.ylim((10, 1e4))\n",
    "plt.yscale('log')\n",
    "plt.grid()\n",
    "plt.legend(loc='best')\n",
    "plt.savefig(\"plot 2.pdf\", format=\"pdf\")"
   ]
  },
  {
   "cell_type": "code",
   "execution_count": 9,
   "metadata": {},
   "outputs": [
    {
     "name": "stdout",
     "output_type": "stream",
     "text": [
      "Schwächungskoeffizient mu = 0.619+/-0.014  1/cm\n",
      "Massenschwächungskoeffizient 0.0546+/-0.0012  cm^2/g\n"
     ]
    },
    {
     "data": {
      "text/plain": [
       "array([0.05458815017645391+/-0.001210647492763845], dtype=object)"
      ]
     },
     "execution_count": 9,
     "metadata": {},
     "output_type": "execute_result"
    }
   ],
   "source": [
    "#chi_2(oneexp, pgamma[0], xy, ny[0], ny[1])\n",
    "uprint('Schwächungskoeffizient mu = ', pgamma[0,1], pgamma[1,1], '1/cm')\n",
    "# Massenschwächungskoeffizient\n",
    "rho_pb = 11.342 # [g/cm^3]\n",
    "a = pgamma[0:2,1] / rho_pb # [cm^2/g]\n",
    "uprint('Massenschwächungskoeffizient ', a[0], a[1], 'cm^2/g')\n",
    "#print('Energie aus Abb. 9 im Skript: E = ', , ' MeV')"
   ]
  },
  {
   "cell_type": "markdown",
   "metadata": {},
   "source": [
    "## 3 Aktivität"
   ]
  },
  {
   "cell_type": "code",
   "execution_count": 10,
   "metadata": {},
   "outputs": [
    {
     "name": "stdout",
     "output_type": "stream",
     "text": [
      "Aktivitäten:\n",
      "A(d=5.0cm) = (1.38+/-0.17)e+06  Bq\n",
      "A(d=10.0cm) = (1.81+/-0.11)e+06  Bq\n",
      "A(d=20.0cm) = (1.99+/-0.07)e+06  Bq\n",
      "\n",
      "Raumwinkel-Korrektur:\n",
      "A_korr(d=5.0cm) = (2.71+/-0.33)e+06  Bq\n",
      "        k1(d=5.0cm) = 1.96+/-0.33  \n",
      "A_korr(d=10.0cm) = (2.60+/-0.16)e+06  Bq\n",
      "        k1(d=10.0cm) = 1.44+/-0.12  \n",
      "A_korr(d=20.0cm) = (2.41+/-0.08)e+06  Bq\n",
      "        k1(d=20.0cm) = 1.21+/-0.06  \n",
      "\n",
      "Absorptions-Korrektur:\n",
      "A_abg(d=5.0cm) = (2.88+/-0.35)e+06  Bq\n",
      "        k2(d=5.0cm) = 0.94+/-0.16  \n",
      "A_abg(d=10.0cm) = (2.76+/-0.17)e+06  Bq\n",
      "        k2(d=10.0cm) = 0.94+/-0.08  \n",
      "A_abg(d=20.0cm) = (2.56+/-0.09)e+06  Bq\n",
      "        k2(d=20.0cm) = 0.94+/-0.05  \n"
     ]
    }
   ],
   "source": [
    "# Aufgabe 3 Aktivität gamma Strahlung\n",
    "A = np.array([ 4 * nc[0] * dc[0]**2 / (e * r**2), \n",
    "             4 * nc[0] * dc[0]**2 / (e * r**2) * np.sqrt( (2*dc[1]/dc[0])**2 + (nc[1]/nc[0])**2 )])\n",
    "print('Aktivitäten:')\n",
    "for i in range(len(A[0])):\n",
    "    uprint('A(d={}cm) = '.format(dc[0,i]), A[0,i], A[1,i], 'Bq')\n",
    "\n",
    "# Raumwinkel-Korrektur\n",
    "A_korr = np.array([ 4 * nc[0] * (dc[0] + l/2)**2 / (e * r**2), \n",
    "             4 * nc[0] * (dc[0] + l/2)**2 / (e * r**2) * np.sqrt( (2*dc[1]/dc[0])**2 + (nc[1]/nc[0])**2 )])\n",
    "k1 = np.array([ A_korr[0]/A[0],\n",
    "              A_korr[0]/A[0] * np.sqrt( (A_korr[1]/A_korr[0])**2 + (A[1]/A[0])**2 )])\n",
    "print('\\nRaumwinkel-Korrektur:')\n",
    "for i in range(len(A_korr[0])):\n",
    "    uprint('A_korr(d={}cm) = '.format(dc[0,i]), A_korr[0,i], A_korr[1,i], 'Bq')\n",
    "    uprint('        k1(d={}cm) = '.format(dc[0,i]), k1[0,i], k1[1,i])\n",
    "\n",
    "# Absorptions-Korrektur\n",
    "rho_abs = 7.9 # [g/cm^3] Dichte Absorber\n",
    "mu_abs = a * rho_abs # (a in [cm^2]/g)\n",
    "x_abs = .14 # [cm]\n",
    "A_abg = np.array([ A_korr[0]*np.exp(mu_abs[0]*x_abs),\n",
    "                 A_korr[0]*np.exp(mu_abs[0]*x_abs) * np.sqrt( (A_korr[1]/A_korr[0])**2 + (x_abs*mu_abs[1])**2 )])\n",
    "k2 = np.array([ A_korr[0]/A_abg[0],\n",
    "              A_korr[0]/A_abg[0] * np.sqrt( (A_korr[1]/A_korr[0])**2 + (A_abg[1]/A_abg[0])**2 )])\n",
    "print('\\nAbsorptions-Korrektur:')\n",
    "for i in range(len(A_abg[0])):\n",
    "    uprint('A_abg(d={}cm) = '.format(dc[0,i]), A_abg[0,i], A_abg[1,i], 'Bq')\n",
    "    uprint('        k2(d={}cm) = '.format(dc[0,i]), k2[0,i], k2[1,i])"
   ]
  },
  {
   "cell_type": "markdown",
   "metadata": {},
   "source": [
    "## 4 alpha Strahlung"
   ]
  },
  {
   "cell_type": "code",
   "execution_count": 11,
   "metadata": {},
   "outputs": [
    {
     "name": "stdout",
     "output_type": "stream",
     "text": [
      "p_1/2 = 419+/-24  mbar\n"
     ]
    },
    {
     "data": {
      "image/png": "[encoded data removed]",
      "text/plain": [
       "<Figure size 432x288 with 1 Axes>"
      ]
     },
     "metadata": {
      "needs_background": "light"
     },
     "output_type": "display_data"
    }
   ],
   "source": [
    "# Aufgabe 4 alpha Strahlung\n",
    "rg = np.array([4, 9]) # fitte linearen Bereich\n",
    "popt, pcov = curve_fit(lin, p[0, rg[0]:rg[1]], na[rg[0]:rg[1]])\n",
    "palpha = np.array([popt, perr(pcov)])\n",
    "\n",
    "nhalf = na[0]/2\n",
    "nconst = np.zeros(len(p[0]))\n",
    "for i in range(len(p[0])):\n",
    "    nconst[i] = nhalf\n",
    "\n",
    "phalf = np.array([ (nhalf - palpha[0,1])/palpha[0,0], \n",
    "                 np.sqrt( (0.5*dna[0]/palpha[0,1])**2 + (palpha[1,1]/palpha[0,0])**2 + (palpha[1,0]*(nhalf - palpha[0,1])/palpha[0,0]**2) )])\n",
    "uprint('p_1/2 = ', phalf[0], phalf[1], 'mbar')\n",
    "\n",
    "# Plot\n",
    "plt.errorbar(p[0], na, yerr=dna, fmt='', linestyle='none', label='Messwerte')\n",
    "plt.plot(p[0], lin(p[0], *popt), label='Fit')\n",
    "plt.plot(p[0], nconst, label='$p_{1/2}$')\n",
    "plt.title('Diagramm 3: Absorbtion von Alpha-Strahlung')\n",
    "plt.xlabel('Druck $p/mbar$')\n",
    "plt.ylabel('Zerfallsrate $n/(1/min)$')\n",
    "plt.ylim((0, 14000))\n",
    "#plt.yscale('log')\n",
    "plt.grid()\n",
    "plt.legend(loc='best')\n",
    "plt.savefig(\"plot 3.pdf\", format=\"pdf\")"
   ]
  },
  {
   "cell_type": "code",
   "execution_count": 12,
   "metadata": {
    "scrolled": true
   },
   "outputs": [
    {
     "name": "stdout",
     "output_type": "stream",
     "text": [
      "Reichweite s = 3.89+/-0.09  cm\n",
      "Maximalenergie aus Abb. 8 im Skript: E = 5.5+/-0.1 MeV\n"
     ]
    }
   ],
   "source": [
    "# Reichweite\n",
    "s0 = np.array([3.95, 0.05]) # Abstand [cm]\n",
    "s1 = np.array([ phalf[0]/p0*s0[0],\n",
    "              phalf[0]/p0*s0[0] * np.sqrt( (phalf[1]/phalf[0])**2 + (s0[1]/s0[0])**2 )])\n",
    "rho_gl = 2.25 # Flächendichte Zählrohrfenster\n",
    "brems = 1.43 # Bremsvermögen Zählrohrfenster\n",
    "s2 = rho_gl/brems\n",
    "s3 = .68 # Absorption Goldschicht\n",
    "s = np.array([ s1[0]+s2+s3, s1[1]])\n",
    "uprint('Reichweite s = ', s[0], s[1], 'cm')\n",
    "print('Maximalenergie aus Abb. 8 im Skript: E = 5.5+/-0.1 MeV')"
   ]
  }
 ],
 "metadata": {
  "kernelspec": {
   "display_name": "Python 3",
   "language": "python",
   "name": "python3"
  },
  "language_info": {
   "codemirror_mode": {
    "name": "ipython",
    "version": 3
   },
   "file_extension": ".py",
   "mimetype": "text/x-python",
   "name": "python",
   "nbconvert_exporter": "python",
   "pygments_lexer": "ipython3",
   "version": "3.7.3rc1"
  }
 },
 "nbformat": 4,
 "nbformat_minor": 2
}
