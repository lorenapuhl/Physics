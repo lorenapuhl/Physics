{
 "cells": [
  {
   "cell_type": "code",
   "execution_count": 2,
   "metadata": {},
   "outputs": [],
   "source": [
    "#%matplotlib inline\n",
    "import matplotlib.pyplot as plt\n",
    "import numpy as np\n",
    "from scipy.stats import chi2\n",
    "from scipy.optimize import curve_fit"
   ]
  },
  {
   "cell_type": "code",
   "execution_count": 3,
   "metadata": {},
   "outputs": [],
   "source": [
    "def comma_to_float(valstr):\n",
    "    return float(valstr.decode(\"utf-8\").replace(',', '.'))"
   ]
  },
  {
   "cell_type": "code",
   "execution_count": 4,
   "metadata": {},
   "outputs": [
    {
     "ename": "OSError",
     "evalue": "data/himmel_o_g.txt not found.",
     "output_type": "error",
     "traceback": [
      "\u001b[1;31m---------------------------------------------------------------------------\u001b[0m",
      "\u001b[1;31mOSError\u001b[0m                                   Traceback (most recent call last)",
      "\u001b[1;32m<ipython-input-4-8f50f3180f5f>\u001b[0m in \u001b[0;36m<module>\u001b[1;34m()\u001b[0m\n\u001b[1;32m----> 1\u001b[1;33m \u001b[0mlamb_og\u001b[0m\u001b[1;33m,\u001b[0m \u001b[0minten_og\u001b[0m\u001b[1;33m=\u001b[0m\u001b[0mnp\u001b[0m\u001b[1;33m.\u001b[0m\u001b[0mloadtxt\u001b[0m\u001b[1;33m(\u001b[0m\u001b[1;34m'data/himmel_o_g.txt'\u001b[0m\u001b[1;33m,\u001b[0m \u001b[0mskiprows\u001b[0m\u001b[1;33m=\u001b[0m\u001b[1;36m17\u001b[0m\u001b[1;33m,\u001b[0m \u001b[0mconverters\u001b[0m\u001b[1;33m=\u001b[0m \u001b[1;33m{\u001b[0m\u001b[1;36m0\u001b[0m\u001b[1;33m:\u001b[0m\u001b[0mcomma_to_float\u001b[0m\u001b[1;33m,\u001b[0m \u001b[1;36m1\u001b[0m\u001b[1;33m:\u001b[0m\u001b[0mcomma_to_float\u001b[0m\u001b[1;33m}\u001b[0m\u001b[1;33m,\u001b[0m \u001b[0mcomments\u001b[0m\u001b[1;33m=\u001b[0m\u001b[1;34m'>'\u001b[0m\u001b[1;33m,\u001b[0m \u001b[0munpack\u001b[0m\u001b[1;33m=\u001b[0m\u001b[1;32mTrue\u001b[0m\u001b[1;33m)\u001b[0m\u001b[1;33m\u001b[0m\u001b[0m\n\u001b[0m\u001b[0;32m      2\u001b[0m \u001b[0mlamb_mg\u001b[0m\u001b[1;33m,\u001b[0m \u001b[0minten_mg\u001b[0m\u001b[1;33m=\u001b[0m\u001b[0mnp\u001b[0m\u001b[1;33m.\u001b[0m\u001b[0mloadtxt\u001b[0m\u001b[1;33m(\u001b[0m\u001b[1;34m'data/himmel_m_g.txt'\u001b[0m\u001b[1;33m,\u001b[0m \u001b[0mskiprows\u001b[0m\u001b[1;33m=\u001b[0m\u001b[1;36m17\u001b[0m\u001b[1;33m,\u001b[0m \u001b[0mconverters\u001b[0m\u001b[1;33m=\u001b[0m \u001b[1;33m{\u001b[0m\u001b[1;36m0\u001b[0m\u001b[1;33m:\u001b[0m\u001b[0mcomma_to_float\u001b[0m\u001b[1;33m,\u001b[0m \u001b[1;36m1\u001b[0m\u001b[1;33m:\u001b[0m\u001b[0mcomma_to_float\u001b[0m\u001b[1;33m}\u001b[0m\u001b[1;33m,\u001b[0m \u001b[0mcomments\u001b[0m\u001b[1;33m=\u001b[0m\u001b[1;34m'>'\u001b[0m\u001b[1;33m,\u001b[0m \u001b[0munpack\u001b[0m\u001b[1;33m=\u001b[0m\u001b[1;32mTrue\u001b[0m\u001b[1;33m)\u001b[0m\u001b[1;33m\u001b[0m\u001b[0m\n",
      "\u001b[1;32m~\\Anaconda3\\lib\\site-packages\\numpy\\lib\\npyio.py\u001b[0m in \u001b[0;36mloadtxt\u001b[1;34m(fname, dtype, comments, delimiter, converters, skiprows, usecols, unpack, ndmin, encoding)\u001b[0m\n\u001b[0;32m    924\u001b[0m             \u001b[0mfname\u001b[0m \u001b[1;33m=\u001b[0m \u001b[0mstr\u001b[0m\u001b[1;33m(\u001b[0m\u001b[0mfname\u001b[0m\u001b[1;33m)\u001b[0m\u001b[1;33m\u001b[0m\u001b[0m\n\u001b[0;32m    925\u001b[0m         \u001b[1;32mif\u001b[0m \u001b[0m_is_string_like\u001b[0m\u001b[1;33m(\u001b[0m\u001b[0mfname\u001b[0m\u001b[1;33m)\u001b[0m\u001b[1;33m:\u001b[0m\u001b[1;33m\u001b[0m\u001b[0m\n\u001b[1;32m--> 926\u001b[1;33m             \u001b[0mfh\u001b[0m \u001b[1;33m=\u001b[0m \u001b[0mnp\u001b[0m\u001b[1;33m.\u001b[0m\u001b[0mlib\u001b[0m\u001b[1;33m.\u001b[0m\u001b[0m_datasource\u001b[0m\u001b[1;33m.\u001b[0m\u001b[0mopen\u001b[0m\u001b[1;33m(\u001b[0m\u001b[0mfname\u001b[0m\u001b[1;33m,\u001b[0m \u001b[1;34m'rt'\u001b[0m\u001b[1;33m,\u001b[0m \u001b[0mencoding\u001b[0m\u001b[1;33m=\u001b[0m\u001b[0mencoding\u001b[0m\u001b[1;33m)\u001b[0m\u001b[1;33m\u001b[0m\u001b[0m\n\u001b[0m\u001b[0;32m    927\u001b[0m             \u001b[0mfencoding\u001b[0m \u001b[1;33m=\u001b[0m \u001b[0mgetattr\u001b[0m\u001b[1;33m(\u001b[0m\u001b[0mfh\u001b[0m\u001b[1;33m,\u001b[0m \u001b[1;34m'encoding'\u001b[0m\u001b[1;33m,\u001b[0m \u001b[1;34m'latin1'\u001b[0m\u001b[1;33m)\u001b[0m\u001b[1;33m\u001b[0m\u001b[0m\n\u001b[0;32m    928\u001b[0m             \u001b[0mfh\u001b[0m \u001b[1;33m=\u001b[0m \u001b[0miter\u001b[0m\u001b[1;33m(\u001b[0m\u001b[0mfh\u001b[0m\u001b[1;33m)\u001b[0m\u001b[1;33m\u001b[0m\u001b[0m\n",
      "\u001b[1;32m~\\Anaconda3\\lib\\site-packages\\numpy\\lib\\_datasource.py\u001b[0m in \u001b[0;36mopen\u001b[1;34m(path, mode, destpath, encoding, newline)\u001b[0m\n\u001b[0;32m    260\u001b[0m \u001b[1;33m\u001b[0m\u001b[0m\n\u001b[0;32m    261\u001b[0m     \u001b[0mds\u001b[0m \u001b[1;33m=\u001b[0m \u001b[0mDataSource\u001b[0m\u001b[1;33m(\u001b[0m\u001b[0mdestpath\u001b[0m\u001b[1;33m)\u001b[0m\u001b[1;33m\u001b[0m\u001b[0m\n\u001b[1;32m--> 262\u001b[1;33m     \u001b[1;32mreturn\u001b[0m \u001b[0mds\u001b[0m\u001b[1;33m.\u001b[0m\u001b[0mopen\u001b[0m\u001b[1;33m(\u001b[0m\u001b[0mpath\u001b[0m\u001b[1;33m,\u001b[0m \u001b[0mmode\u001b[0m\u001b[1;33m,\u001b[0m \u001b[0mencoding\u001b[0m\u001b[1;33m=\u001b[0m\u001b[0mencoding\u001b[0m\u001b[1;33m,\u001b[0m \u001b[0mnewline\u001b[0m\u001b[1;33m=\u001b[0m\u001b[0mnewline\u001b[0m\u001b[1;33m)\u001b[0m\u001b[1;33m\u001b[0m\u001b[0m\n\u001b[0m\u001b[0;32m    263\u001b[0m \u001b[1;33m\u001b[0m\u001b[0m\n\u001b[0;32m    264\u001b[0m \u001b[1;33m\u001b[0m\u001b[0m\n",
      "\u001b[1;32m~\\Anaconda3\\lib\\site-packages\\numpy\\lib\\_datasource.py\u001b[0m in \u001b[0;36mopen\u001b[1;34m(self, path, mode, encoding, newline)\u001b[0m\n\u001b[0;32m    616\u001b[0m                                       encoding=encoding, newline=newline)\n\u001b[0;32m    617\u001b[0m         \u001b[1;32melse\u001b[0m\u001b[1;33m:\u001b[0m\u001b[1;33m\u001b[0m\u001b[0m\n\u001b[1;32m--> 618\u001b[1;33m             \u001b[1;32mraise\u001b[0m \u001b[0mIOError\u001b[0m\u001b[1;33m(\u001b[0m\u001b[1;34m\"%s not found.\"\u001b[0m \u001b[1;33m%\u001b[0m \u001b[0mpath\u001b[0m\u001b[1;33m)\u001b[0m\u001b[1;33m\u001b[0m\u001b[0m\n\u001b[0m\u001b[0;32m    619\u001b[0m \u001b[1;33m\u001b[0m\u001b[0m\n\u001b[0;32m    620\u001b[0m \u001b[1;33m\u001b[0m\u001b[0m\n",
      "\u001b[1;31mOSError\u001b[0m: data/himmel_o_g.txt not found."
     ]
    }
   ],
   "source": [
    "lamb_og, inten_og=np.loadtxt('data/himmel_o_g.txt', skiprows=17, converters= {0:comma_to_float, 1:comma_to_float}, comments='>', unpack=True)\n",
    "lamb_mg, inten_mg=np.loadtxt('data/himmel_m_g.txt', skiprows=17, converters= {0:comma_to_float, 1:comma_to_float}, comments='>', unpack=True)"
   ]
  },
  {
   "cell_type": "code",
   "execution_count": null,
   "metadata": {},
   "outputs": [],
   "source": [
    "plt.plot(lamb_og, inten_og, label='ohne Fenster')\n",
    "plt.plot(lamb_mg, inten_mg, label='mit Fenster')\n",
    "plt.title('Gemessenes Sonnenspektrum mit und ohne Fenster')\n",
    "plt.xlabel('Wellenlänge / nm')\n",
    "plt.ylabel('Intensität / b.E.')\n",
    "plt.legend()\n",
    "plt.grid()\n",
    "plt.ylim((0, 60000))\n",
    "plt.xlim((250, 900))\n",
    "plt.savefig(\"figures/Himmel_m_o_G.pdf\", format=\"pdf\")"
   ]
  },
  {
   "cell_type": "markdown",
   "metadata": {},
   "source": [
    "# Absorption"
   ]
  },
  {
   "cell_type": "code",
   "execution_count": null,
   "metadata": {},
   "outputs": [],
   "source": [
    "A = 1-inten_mg/inten_og\n",
    "\n",
    "plt.plot(lamb_mg, A)\n",
    "plt.title('Absorption von Glas')\n",
    "plt.xlabel('Wellenlänge / nm')\n",
    "plt.ylabel('Absorption / b.E.')\n",
    "plt.ylim((0,1))\n",
    "plt.xlim((320, 800))\n",
    "plt.savefig(\"figures/Absorption_Glas.pdf\", format=\"pdf\")"
   ]
  },
  {
   "cell_type": "markdown",
   "metadata": {},
   "source": [
    "# Fraunhoferlinien"
   ]
  },
  {
   "cell_type": "code",
   "execution_count": null,
   "metadata": {},
   "outputs": [],
   "source": [
    "%matplotlib notebook\n",
    "plt.plot(lamb_og, inten_og)\n",
    "plt.title('Sonnenspektrum')\n",
    "plt.xlabel('Wellenlänge / nm')\n",
    "plt.ylabel('Intensität / b.E.')\n",
    "plt.ylim((0, 65000))\n",
    "plt.xlim((350,800))\n",
    "plt.savefig(\"figures/Fraunhofer.pdf\", format=\"pdf\")\n",
    "plt.show()"
   ]
  },
  {
   "cell_type": "code",
   "execution_count": null,
   "metadata": {},
   "outputs": [],
   "source": []
  },
  {
   "cell_type": "markdown",
   "metadata": {},
   "source": [
    "# Auswertung Natriumspektrum"
   ]
  },
  {
   "cell_type": "code",
   "execution_count": null,
   "metadata": {},
   "outputs": [],
   "source": [
    "%matplotlib notebook\n",
    "lamb_og, inten_og=np.loadtxt('data/Na1.txt', skiprows=17, converters= {0:comma_to_float, 1:comma_to_float}, comments='>', unpack=True)\n",
    "plt.plot(lamb_og, inten_og)\n",
    "plt.title('Natriumspektrum geringer Intensität')\n",
    "plt.xlabel('Wellenlänge / nm')\n",
    "plt.ylabel('Intensität / b.E.')\n",
    "plt.yscale('log')\n",
    "plt.ylim((0, 600000))\n",
    "plt.xlim((300, 540))\n",
    "plt.savefig('figures/Na_Spektrum_niedrige_Int.pdf', format='pdf')\n",
    "plt.show()"
   ]
  },
  {
   "cell_type": "code",
   "execution_count": null,
   "metadata": {},
   "outputs": [],
   "source": [
    "%matplotlib notebook\n",
    "lamb_og, inten_og=np.loadtxt('data/Na2.txt', skiprows=17, converters= {0:comma_to_float, 1:comma_to_float}, comments='>', unpack=True)\n",
    "plt.plot(lamb_og, inten_og)\n",
    "plt.title('Natriumspektrum hoher Intensität')\n",
    "plt.xlabel('Wellenlänge / nm')\n",
    "plt.ylabel('Intensität / b.E.')\n",
    "plt.yscale('log')\n",
    "plt.ylim((0, 80000))\n",
    "plt.xlim((300, 850))\n",
    "plt.savefig('figures/Na_Spektrum_hohe_Int.pdf', format='pdf')\n",
    "plt.show()"
   ]
  },
  {
   "cell_type": "markdown",
   "metadata": {},
   "source": [
    "# Zuordnung zu Serien"
   ]
  },
  {
   "cell_type": "markdown",
   "metadata": {},
   "source": [
    "## 1. Nebenserie"
   ]
  },
  {
   "cell_type": "code",
   "execution_count": null,
   "metadata": {},
   "outputs": [],
   "source": [
    "E_3p = -3.0254\n",
    "\n",
    "for m in range(3, 13):\n",
    "    l = 1.2398e3/((-13.605/m**2)-E_3p)\n",
    "    #print('m={m:2d}, lambda={1:6.2f}'.format(m=m,l=l))\n",
    "    print(m, l)"
   ]
  },
  {
   "cell_type": "markdown",
   "metadata": {},
   "source": [
    "## 2. Nebenserie"
   ]
  },
  {
   "cell_type": "code",
   "execution_count": null,
   "metadata": {},
   "outputs": [],
   "source": [
    "delta_s = 1.3715\n",
    "E_3s = -5.1303\n",
    "\n",
    "for m in range(4, 10):\n",
    "    l = 1.2398e3/((-13.605/(m-delta_s)**2)-E_3p)\n",
    "    #print('m={m:2d}, lambda={1:6.2f}'.format(m=m,l=l))\n",
    "    print(m, l)"
   ]
  },
  {
   "cell_type": "markdown",
   "metadata": {},
   "source": [
    "## Hauptserie"
   ]
  },
  {
   "cell_type": "code",
   "execution_count": null,
   "metadata": {},
   "outputs": [],
   "source": [
    "delta_p = 0.8794\n",
    "\n",
    "for m in range(4, 6):\n",
    "    l = 1.2398e3/((-13.605/(m-delta_p)**2)-E_3s)\n",
    "    #print('m={m:2d}, lambda={1:6.2f}'.format(m=m,l=l))\n",
    "    print(m, l)"
   ]
  },
  {
   "cell_type": "markdown",
   "metadata": {},
   "source": [
    "# Bestimmung der Serienenergien und der l-abhängigen Korrekturfaktoren"
   ]
  },
  {
   "cell_type": "markdown",
   "metadata": {},
   "source": [
    "## 1. Nebenserie"
   ]
  },
  {
   "cell_type": "code",
   "execution_count": 1,
   "metadata": {},
   "outputs": [],
   "source": [
    "from scipy.stats import chi2\n",
    "from scipy.optimize import curve_fit\n",
    "import matplotlib.pyplot as plt\n",
    "import numpy as np \n",
    "wellenl=np.array([819.5, 570, 498, 466.3, 450.6, 439.1, 433.3, 429.9, 426.3]) #Werte eintragen\n",
    "fehler=np.array([2, 1, 1, 1, 2, 1.5, 1.5, 1, 1]) # Werte eintragen\n",
    "quantenz=np.arange(3,12)\n",
    "\n",
    "plt.errorbar(quantenz, wellenl, fehler, fmt=\"om\")\n",
    "plt.xlabel('Quantenzahl')\n",
    "plt.ylabel('Wellenlänge / nm')\n",
    "plt.title('1. Nebenserie des Na-Atoms')\n",
    "plt.savefig(\"C:/Users/lorena/Desktop/BLA.pdf\", format=\"pdf\")\n",
    "#plt.show()"
   ]
  },
  {
   "cell_type": "code",
   "execution_count": 28,
   "metadata": {},
   "outputs": [],
   "source": [
    "def fit_func(m, E_Ry, E_3p, D_d):\n",
    "    return 1.2398E3/(E_Ry/(m-D_d)**2-E_3p)"
   ]
  },
  {
   "cell_type": "code",
   "execution_count": 30,
   "metadata": {},
   "outputs": [
    {
     "name": "stdout",
     "output_type": "stream",
     "text": [
      "E_Ry =  -13.18992477035193 , Standardfehler =  0.3717658503654678\n",
      "E_3p =  -3.023427722137284 , Standardfehler =  0.006074904982252728\n",
      "D_d =  0.04601540294940737 , Standardfehler =  0.03775495073951108\n"
     ]
    }
   ],
   "source": [
    "para = [-13.6, -3, -0.02]\n",
    "popt, pcov = curve_fit(fit_func, quantenz, wellenl, sigma=fehler, p0=para)\n",
    "print(\"E_Ry = \", popt[0], \", Standardfehler = \", np.sqrt(pcov[0][0]))\n",
    "print(\"E_3p = \", popt[1], \", Standardfehler = \", np.sqrt(pcov[1][1]))\n",
    "print(\"D_d = \", popt[2], \", Standardfehler = \", np.sqrt(pcov[2][2]))"
   ]
  },
  {
   "cell_type": "code",
   "execution_count": 31,
   "metadata": {},
   "outputs": [
    {
     "name": "stdout",
     "output_type": "stream",
     "text": [
      "chi2 =  6.13296628064977\n",
      "chi2_red =  1.0221610467749616\n"
     ]
    }
   ],
   "source": [
    "chi2_ = np.sum((fit_func(quantenz, *popt)-wellenl)**2/fehler**2)\n",
    "dof = len(quantenz)-3 #dof: degrees of freedom\n",
    "chi2_red = chi2_/dof\n",
    "print(\"chi2 = \", chi2_)\n",
    "print(\"chi2_red = \", chi2_red)"
   ]
  },
  {
   "cell_type": "code",
   "execution_count": 32,
   "metadata": {},
   "outputs": [
    {
     "name": "stdout",
     "output_type": "stream",
     "text": [
      "Wahrscheinlichkeit: 41.0 %\n"
     ]
    }
   ],
   "source": [
    "prob=round(1-chi2.cdf(chi2_,dof),2)*100\n",
    "print(\"Wahrscheinlichkeit:\", prob, \"%\")"
   ]
  },
  {
   "cell_type": "code",
   "execution_count": 34,
   "metadata": {},
   "outputs": [
    {
     "data": {
      "text/plain": [
       "[<matplotlib.lines.Line2D at 0x7fd76d6854e0>]"
      ]
     },
     "execution_count": 34,
     "metadata": {},
     "output_type": "execute_result"
    },
    {
     "data": {
      "image/png": "[encoded data removed]",
      "text/plain": [
       "<Figure size 432x288 with 1 Axes>"
      ]
     },
     "metadata": {},
     "output_type": "display_data"
    }
   ],
   "source": [
    "plt.errorbar(quantenz,wellenl,fehler,fmt=\".\")\n",
    "plt.xlabel('Quantenzahl')\n",
    "plt.ylabel('Wellenlänge / nm')\n",
    "plt.title('1. Nebenserie des Na-Atoms')\n",
    "x=np.linspace(2.8, 12.2, 100)\n",
    "plt.plot(x, fit_func(x, *popt))"
   ]
  },
  {
   "cell_type": "markdown",
   "metadata": {},
   "source": [
    "## 2. Nebenserie"
   ]
  },
  {
   "cell_type": "code",
   "execution_count": 37,
   "metadata": {},
   "outputs": [
    {
     "data": {
      "image/png": "[encoded data removed]",
      "text/plain": [
       "<Figure size 432x288 with 1 Axes>"
      ]
     },
     "metadata": {},
     "output_type": "display_data"
    }
   ],
   "source": [
    "wellenl=np.array([ 622.4, 515.3, 475, 455.4, 444.1]) #Werte eintragen\n",
    "fehler=np.array([ 1, 1, 1, 1, 2]) # Werte eintragen\n",
    "quantenz=np.arange(5,10)\n",
    "\n",
    "plt.errorbar(quantenz, wellenl, fehler, fmt=\"om\")\n",
    "plt.xlabel('Quantenzahl')\n",
    "plt.ylabel('Wellenlänge / nm')\n",
    "plt.title('2. Nebenserie des Na-Atoms')\n",
    "plt.show()"
   ]
  },
  {
   "cell_type": "code",
   "execution_count": 38,
   "metadata": {},
   "outputs": [],
   "source": [
    "def fit_func(m, E_Ry, E_3s, D_s):\n",
    "    return 1.2398E3/(E_Ry/(m-D_s)**2-E_3s)"
   ]
  },
  {
   "cell_type": "code",
   "execution_count": 39,
   "metadata": {},
   "outputs": [
    {
     "name": "stdout",
     "output_type": "stream",
     "text": [
      "E_Ry =  -10.841401323499618 , Standardfehler =  0.20145405194780747\n",
      "E_3s =  -2.9973076073019107 , Standardfehler =  0.003515729786242947\n",
      "D_s =  1.7162020820300254 , Standardfehler =  0.025164003572046324\n"
     ]
    }
   ],
   "source": [
    "para = [-13.6, -3, -0.02]\n",
    "popt, pcov = curve_fit(fit_func, quantenz, wellenl, sigma=fehler, p0=para)\n",
    "print(\"E_Ry = \", popt[0], \", Standardfehler = \", np.sqrt(pcov[0][0]))\n",
    "print(\"E_3s = \", popt[1], \", Standardfehler = \", np.sqrt(pcov[1][1]))\n",
    "print(\"D_s = \", popt[2], \", Standardfehler = \", np.sqrt(pcov[2][2]))"
   ]
  },
  {
   "cell_type": "code",
   "execution_count": 40,
   "metadata": {},
   "outputs": [
    {
     "name": "stdout",
     "output_type": "stream",
     "text": [
      "chi2 =  0.0679890357896266\n",
      "chi2_red =  0.0339945178948133\n"
     ]
    }
   ],
   "source": [
    "chi2_ = np.sum((fit_func(quantenz, *popt)-wellenl)**2/fehler**2)\n",
    "dof = len(quantenz)-3 #dof: degrees of freedom\n",
    "chi2_red = chi2_/dof\n",
    "print(\"chi2 = \", chi2_)\n",
    "print(\"chi2_red = \", chi2_red)"
   ]
  },
  {
   "cell_type": "code",
   "execution_count": 41,
   "metadata": {},
   "outputs": [
    {
     "name": "stdout",
     "output_type": "stream",
     "text": [
      "Wahrscheinlichkeit: 97.0 %\n"
     ]
    }
   ],
   "source": [
    "prob=round(1-chi2.cdf(chi2_,dof),2)*100\n",
    "print(\"Wahrscheinlichkeit:\", prob, \"%\")"
   ]
  },
  {
   "cell_type": "code",
   "execution_count": 43,
   "metadata": {},
   "outputs": [
    {
     "data": {
      "image/png": "[encoded data removed]",
      "text/plain": [
       "<Figure size 432x288 with 1 Axes>"
      ]
     },
     "metadata": {},
     "output_type": "display_data"
    }
   ],
   "source": [
    "plt.errorbar(quantenz,wellenl,fehler,fmt=\".\")\n",
    "plt.xlabel('Quantenzahl')\n",
    "plt.ylabel('Wellenlänge / nm')\n",
    "plt.title('2. Nebenserie des Na-Atoms')\n",
    "x=np.linspace(2.8, 12.2, 100)\n",
    "plt.plot(x, fit_func(x, *popt))\n",
    "plt.show()"
   ]
  },
  {
   "cell_type": "code",
   "execution_count": null,
   "metadata": {},
   "outputs": [],
   "source": []
  },
  {
   "cell_type": "code",
   "execution_count": null,
   "metadata": {},
   "outputs": [],
   "source": []
  }
 ],
 "metadata": {
  "kernelspec": {
   "display_name": "Python 3",
   "language": "python",
   "name": "python3"
  },
  "language_info": {
   "codemirror_mode": {
    "name": "ipython",
    "version": 3
   },
   "file_extension": ".py",
   "mimetype": "text/x-python",
   "name": "python",
   "nbconvert_exporter": "python",
   "pygments_lexer": "ipython3",
   "version": "3.7.0"
  }
 },
 "nbformat": 4,
 "nbformat_minor": 2
}
